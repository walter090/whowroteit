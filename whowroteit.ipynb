{
 "cells": [
  {
   "cell_type": "code",
   "execution_count": 1,
   "metadata": {},
   "outputs": [
    {
     "name": "stdout",
     "output_type": "stream",
     "text": [
      "john-keats already scraped!\n"
     ]
    },
    {
     "name": "stdout",
     "output_type": "stream",
     "text": [
      "william-wordsworth already scraped!\n"
     ]
    },
    {
     "name": "stdout",
     "output_type": "stream",
     "text": [
      "rudyard-kipling already scraped!\n"
     ]
    },
    {
     "name": "stdout",
     "output_type": "stream",
     "text": [
      "william-shakespeare already scraped!\n"
     ]
    },
    {
     "name": "stdout",
     "output_type": "stream",
     "text": [
      "robert-browning already scraped!\n"
     ]
    },
    {
     "name": "stdout",
     "output_type": "stream",
     "text": [
      "t-s-eliot already scraped!\n"
     ]
    },
    {
     "name": "stdout",
     "output_type": "stream",
     "text": [
      "william-butler-yeats already scraped!\n"
     ]
    },
    {
     "name": "stdout",
     "output_type": "stream",
     "text": [
      "edgar-allan-poe already scraped!\n"
     ]
    },
    {
     "name": "stdout",
     "output_type": "stream",
     "text": [
      "samuel-taylor-coleridge already scraped!\n"
     ]
    },
    {
     "name": "stdout",
     "output_type": "stream",
     "text": [
      "thomas-hardy already scraped!\n"
     ]
    },
    {
     "name": "stdout",
     "output_type": "stream",
     "text": [
      "william-blake already scraped!\n"
     ]
    },
    {
     "name": "stdout",
     "output_type": "stream",
     "text": [
      "lord-byron already scraped!\n"
     ]
    },
    {
     "name": "stdout",
     "output_type": "stream",
     "text": [
      "robert-burns already scraped!\n"
     ]
    }
   ],
   "source": [
    "import scraper\n",
    "scraper.scrape_poet('john-keats',\n",
    "                    'william-wordsworth',\n",
    "                    'rudyard-kipling',\n",
    "                    'william-shakespeare',\n",
    "                    'robert-browning',\n",
    "                    't-s-eliot',\n",
    "                    'william-butler-yeats',\n",
    "                    'edgar-allan-poe',\n",
    "                    'samuel-taylor-coleridge',\n",
    "                    'thomas-hardy',\n",
    "                    'william-blake',\n",
    "                    'lord-byron',\n",
    "                    'robert-burns')"
   ]
  },
  {
   "cell_type": "code",
   "execution_count": 1,
   "metadata": {},
   "outputs": [
    {
     "name": "stdout",
     "output_type": "stream",
     "text": [
      "[['Orion', 'swung', 'southward', 'aslant'], ['Where', 'the', 'starved', 'Egdon', 'pine-trees', 'had', 'thinned'], ['The', 'Pleiads', 'aloft', 'seemed', 'to', 'pant'], ['With', 'the', 'heather', 'that', 'twitched', 'in', 'the', 'wind'], ['But', 'he', 'looked', 'on', 'indifferent', 'to', 'sights', 'such', 'as', 'these'], ['Unswayed', 'by', 'love', 'friendship', 'home', 'joy', 'or', 'home', 'sorrow'], ['And', 'wondered', 'to', 'what', 'he', 'would', 'march', 'on', 'the', 'morrow'], ['The', 'crazed', 'household-clock', 'with', 'its', 'whirr'], ['Rang', 'midnight', 'within', 'as', 'he', 'stood'], ['He', 'heard', 'the', 'low', 'sighing', 'of', 'her'], ['Who', 'had', 'striven', 'from', 'his', 'birth', 'for', 'his', 'good'], ['But', 'he', 'still', 'only', 'asked', 'the', 'spring', 'starlight', 'the', 'breeze'], ['What', 'great', 'thing', 'or', 'small', 'thing', 'his', 'history', 'would', 'borrow'], ['From', 'that', 'Game', 'with', 'Death', 'he', 'would', 'play', 'on', 'the', 'morrow'], ['When', 'the', 'heath', 'wore', 'the', 'robe', 'of', 'late', 'summer'], ['And', 'the', 'fuchsia-bells', 'hot', 'in', 'the', 'sun'], ['Hung', 'red', 'by', 'the', 'door', 'a', 'quick', 'comer'], ['Brought', 'tidings', 'that', 'marching', 'was', 'done'], ['For', 'him', 'who', 'had', 'joined', 'in', 'that', 'game', 'overseas'], ['Where', 'Death', 'stood', 'to', 'win', 'though', 'his', 'name', 'was', 'to', 'borrow'], ['A', 'brightness', 'therefrom', 'not', 'to', 'fade', 'on', 'the', 'morrow'], ['Here', 'is', 'the', 'ancient', 'floor'], ['Footworn', 'and', 'hollowed', 'and', 'thin'], ['Here', 'was', 'the', 'former', 'door'], ['Where', 'the', 'dead', 'feet', 'walked', 'in'], ['She', 'sat', 'here', 'in', 'her', 'chair'], ['Smiling', 'into', 'the', 'fire'], ['He', 'who', 'played', 'stood', 'there'], ['Bowing', 'it', 'higher', 'and', 'higher'], ['Childlike', 'I', 'danced', 'in', 'a', 'dream'], ['Blessings', 'emblazoned', 'that', 'day'], ['Everything', 'glowed', 'with', 'a', 'gleam'], ['Yet', 'we', 'were', 'looking', 'away'], ['You', 'did', 'not', 'come'], ['And', 'marching', 'Time', 'drew', 'on', 'and', 'wore', 'me', 'numb'], ['Yet', 'less', 'for', 'loss', 'of', 'your', 'dear', 'presence', 'there'], ['Than', 'that', 'I', 'thus', 'found', 'lacking', 'in', 'your', 'make'], ['That', 'high', 'compassion', 'which', 'can', 'overbear'], ['Reluctance', 'for', 'pure', 'lovingkindness', 'sake'], ['Grieved', 'I', 'when', 'as', 'the', 'hope-hour', 'stroked', 'its', 'sum'], ['You', 'did', 'not', 'come'], ['You', 'love', 'not', 'me'], ['And', 'love', 'alone', 'can', 'lend', 'you', 'loyalty'], ['I', 'know', 'and', 'knew', 'it', 'But', 'unto', 'the', 'store'], ['Of', 'human', 'deeds', 'divine', 'in', 'all', 'but', 'name'], ['Was', 'it', 'not', 'worth', 'a', 'little', 'hour', 'or', 'more'], ['To', 'add', 'yet', 'this', 'Once', 'you', 'a', 'woman', 'came'], ['To', 'soothe', 'a', 'time-torn', 'man', 'even', 'though', 'it', 'be'], ['You', 'love', 'not', 'me'], ['I']]\n"
     ]
    }
   ],
   "source": [
    "import bagger\n",
    "from gensim.models import word2vec\n",
    "\n",
    "\n",
    "verses = bagger.read_poem('poems/')\n",
    "print verses[0:50]"
   ]
  },
  {
   "cell_type": "code",
   "execution_count": null,
   "metadata": {},
   "outputs": [],
   "source": [
    ""
   ]
  }
 ],
 "metadata": {
  "kernelspec": {
   "display_name": "Python 2",
   "language": "python",
   "name": "python2"
  },
  "language_info": {
   "codemirror_mode": {
    "name": "ipython",
    "version": 2.0
   },
   "file_extension": ".py",
   "mimetype": "text/x-python",
   "name": "python",
   "nbconvert_exporter": "python",
   "pygments_lexer": "ipython2",
   "version": "2.7.6"
  }
 },
 "nbformat": 4,
 "nbformat_minor": 0
}