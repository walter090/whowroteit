{
 "cells": [
  {
   "cell_type": "code",
   "execution_count": 10,
   "metadata": {
    "collapsed": true
   },
   "outputs": [],
   "source": [
    "import bs4 as bs\n",
    "import urllib2 as request"
   ]
  },
  {
   "cell_type": "code",
   "execution_count": 43,
   "metadata": {
    "collapsed": true
   },
   "outputs": [
    {
     "name": "stdout",
     "output_type": "stream",
     "text": [
      "45512\n45513\n45514\n45516\n45517\n45518\n45519\n45520\n45521\n45522\n45523\n45524\n45525\n45526\n45527\n51001\n45528\n45530\n45531\n45532\n52299\n45533\n45534\n45536\n45535\n45538\n45539\n45541\n45540\n45542\n45543\n45545\n45546\n45547\n45548\n45549\n45550\n45551\n45552\n45553\n45554\n45555\n45556\n50285\n45557\n45558\n52996\n45559\n45560\n45561\n45562\n45563\n52298\n50397\n45564\n45565\n45566\n45568\n45567\n"
     ]
    }
   ],
   "source": [
    "sauce = request.urlopen('https://www.poetryfoundation.org/'\n",
    "                        'poems-and-poets/poets/detail/william-wordsworth').read()\n",
    "soup = bs.BeautifulSoup(sauce, 'lxml')\n",
    "body = soup.body\n",
    "\n",
    "head = 'https://www.poetryfoundation.org/poems-and-poets/poems/detail/'\n",
    "links = []\n",
    "\n",
    "for i, poem_section in enumerate(body.find_all('div', class_='detail-assets')):\n",
    "    if i:\n",
    "        poem_list = poem_section.find('ul', class_='auxiliaryList')\n",
    "        for poem in poem_list.find_all('li'):\n",
    "            poem_link = poem.find('a').get('href')\n",
    "            links.append(poem_link.split('/')[-1])\n",
    "            \n",
    "# for url in links:\n",
    "    "
   ]
  },
  {
   "cell_type": "code",
   "execution_count": null,
   "metadata": {},
   "outputs": [],
   "source": [
    ""
   ]
  }
 ],
 "metadata": {
  "kernelspec": {
   "display_name": "Python 2",
   "language": "python",
   "name": "python2"
  },
  "language_info": {
   "codemirror_mode": {
    "name": "ipython",
    "version": 2.0
   },
   "file_extension": ".py",
   "mimetype": "text/x-python",
   "name": "python",
   "nbconvert_exporter": "python",
   "pygments_lexer": "ipython2",
   "version": "2.7.6"
  }
 },
 "nbformat": 4,
 "nbformat_minor": 0
}