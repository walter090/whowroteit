{
 "cells": [
  {
   "cell_type": "code",
   "execution_count": 1,
   "metadata": {
    "collapsed": true
   },
   "outputs": [],
   "source": [
    "import scraper"
   ]
  },
  {
   "cell_type": "code",
   "execution_count": 2,
   "metadata": {},
   "outputs": [
    {
     "name": "stdout",
     "output_type": "stream",
     "text": [
      "john-keats already scraped!\nwilliam-wordsworth already scraped!\nrudyard-kipling already scraped!\nwilliam-shakespeare already scraped!\nrobert-browning already scraped!\n"
     ]
    },
    {
     "name": "stdout",
     "output_type": "stream",
     "text": [
      "t-s-eliot added to collection!\n"
     ]
    },
    {
     "name": "stdout",
     "output_type": "stream",
     "text": [
      "william-butler-yeats added to collection!\n"
     ]
    }
   ],
   "source": [
    "scraper.scrape_poet('john-keats',\n",
    "                    'william-wordsworth',\n",
    "                    'rudyard-kipling',\n",
    "                    'william-shakespeare',\n",
    "                    'robert-browning',\n",
    "                    't-s-eliot',\n",
    "                    'william-butler-yeats')"
   ]
  },
  {
   "cell_type": "code",
   "execution_count": null,
   "metadata": {},
   "outputs": [],
   "source": [
    ""
   ]
  }
 ],
 "metadata": {
  "kernelspec": {
   "display_name": "Python 2",
   "language": "python",
   "name": "python2"
  },
  "language_info": {
   "codemirror_mode": {
    "name": "ipython",
    "version": 2.0
   },
   "file_extension": ".py",
   "mimetype": "text/x-python",
   "name": "python",
   "nbconvert_exporter": "python",
   "pygments_lexer": "ipython2",
   "version": "2.7.6"
  }
 },
 "nbformat": 4,
 "nbformat_minor": 0
}