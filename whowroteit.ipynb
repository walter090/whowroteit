{
 "cells": [
  {
   "cell_type": "code",
   "execution_count": 1,
   "metadata": {},
   "outputs": [
    {
     "name": "stdout",
     "output_type": "stream",
     "text": [
      "john-keats already scraped!\n"
     ]
    },
    {
     "name": "stdout",
     "output_type": "stream",
     "text": [
      "william-wordsworth already scraped!\n"
     ]
    },
    {
     "name": "stdout",
     "output_type": "stream",
     "text": [
      "rudyard-kipling already scraped!\n"
     ]
    },
    {
     "name": "stdout",
     "output_type": "stream",
     "text": [
      "william-shakespeare already scraped!\n"
     ]
    },
    {
     "name": "stdout",
     "output_type": "stream",
     "text": [
      "robert-browning already scraped!\n"
     ]
    },
    {
     "name": "stdout",
     "output_type": "stream",
     "text": [
      "t-s-eliot already scraped!\n"
     ]
    },
    {
     "name": "stdout",
     "output_type": "stream",
     "text": [
      "william-butler-yeats already scraped!\n"
     ]
    },
    {
     "name": "stdout",
     "output_type": "stream",
     "text": [
      "edgar-allan-poe already scraped!\n"
     ]
    },
    {
     "name": "stdout",
     "output_type": "stream",
     "text": [
      "samuel-taylor-coleridge already scraped!\n"
     ]
    },
    {
     "name": "stdout",
     "output_type": "stream",
     "text": [
      "thomas-hardy already scraped!\n"
     ]
    },
    {
     "name": "stdout",
     "output_type": "stream",
     "text": [
      "william-blake already scraped!\n"
     ]
    },
    {
     "name": "stdout",
     "output_type": "stream",
     "text": [
      "lord-byron already scraped!\n"
     ]
    },
    {
     "name": "stdout",
     "output_type": "stream",
     "text": [
      "robert-burns already scraped!\n"
     ]
    },
    {
     "name": "stdout",
     "output_type": "stream",
     "text": [
      "philip-larkin added to collection!\n"
     ]
    }
   ],
   "source": [
    "import scraper\n",
    "scraper.scrape_poet('john-keats',\n",
    "                    'william-wordsworth',\n",
    "                    'rudyard-kipling',\n",
    "                    'william-shakespeare',\n",
    "                    'robert-browning',\n",
    "                    't-s-eliot',\n",
    "                    'william-butler-yeats',\n",
    "                    'edgar-allan-poe',\n",
    "                    'samuel-taylor-coleridge',\n",
    "                    'thomas-hardy',\n",
    "                    'william-blake',\n",
    "                    'lord-byron',\n",
    "                    'robert-burns',\n",
    "                    'philip-larkin')"
   ]
  },
  {
   "cell_type": "code",
   "execution_count": 2,
   "metadata": {},
   "outputs": [],
   "source": [
    "import bagger\n",
    "from gensim.models import word2vec\n",
    "\n",
    "\n",
    "verses = bagger.read_poem('poems/')"
   ]
  },
  {
   "cell_type": "code",
   "execution_count": null,
   "metadata": {},
   "outputs": [],
   "source": [
    ""
   ]
  }
 ],
 "metadata": {
  "kernelspec": {
   "display_name": "Python 2",
   "language": "python",
   "name": "python2"
  },
  "language_info": {
   "codemirror_mode": {
    "name": "ipython",
    "version": 2.0
   },
   "file_extension": ".py",
   "mimetype": "text/x-python",
   "name": "python",
   "nbconvert_exporter": "python",
   "pygments_lexer": "ipython2",
   "version": "2.7.6"
  }
 },
 "nbformat": 4,
 "nbformat_minor": 0
}