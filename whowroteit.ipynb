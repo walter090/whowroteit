{
 "cells": [
  {
   "cell_type": "code",
   "execution_count": 4,
   "metadata": {},
   "outputs": [],
   "source": [
    "import bagger\n",
    "from gensim.models import word2vec\n",
    "\n",
    "verses = bagger.read_poem('poems/')\n",
    "\n",
    "model = word2vec.Word2Vec(verses,\n",
    "                          workers=8,\n",
    "                          size=1000,\n",
    "                          min_count=50,\n",
    "                          window=10,\n",
    "                          sample=10e-3)"
   ]
  },
  {
   "cell_type": "code",
   "execution_count": 5,
   "metadata": {},
   "outputs": [
    {
     "data": {
      "text/plain": [
       "[('pleasure', 0.900668740272522),\n ('grown', 0.8968786597251892),\n ('three', 0.8930172920227051),\n ('hard', 0.8803669810295105),\n ('age', 0.8776470422744751),\n ('fit', 0.8771706819534302),\n ('reason', 0.8731919527053833),\n ('wrong', 0.8700805306434631),\n ('cause', 0.8663995265960693),\n ('smile', 0.8609680533409119)]"
      ]
     },
     "execution_count": 5,
     "metadata": {},
     "output_type": "execute_result"
    }
   ],
   "source": [
    "model.most_similar('very')"
   ]
  },
  {
   "cell_type": "code",
   "execution_count": null,
   "metadata": {},
   "outputs": [],
   "source": [
    ""
   ]
  }
 ],
 "metadata": {
  "kernelspec": {
   "display_name": "Python 2",
   "language": "python",
   "name": "python2"
  },
  "language_info": {
   "codemirror_mode": {
    "name": "ipython",
    "version": 2.0
   },
   "file_extension": ".py",
   "mimetype": "text/x-python",
   "name": "python",
   "nbconvert_exporter": "python",
   "pygments_lexer": "ipython2",
   "version": "2.7.6"
  }
 },
 "nbformat": 4,
 "nbformat_minor": 0
}